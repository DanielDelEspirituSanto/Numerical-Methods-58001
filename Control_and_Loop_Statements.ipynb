{
  "nbformat": 4,
  "nbformat_minor": 0,
  "metadata": {
    "colab": {
      "name": "Control and Loop Statements.ipynb",
      "provenance": [],
      "authorship_tag": "ABX9TyOhuKVmVXQZn2Nk0orLsU5t",
      "include_colab_link": true
    },
    "kernelspec": {
      "name": "python3",
      "display_name": "Python 3"
    },
    "language_info": {
      "name": "python"
    }
  },
  "cells": [
    {
      "cell_type": "markdown",
      "metadata": {
        "id": "view-in-github",
        "colab_type": "text"
      },
      "source": [
        "<a href=\"https://colab.research.google.com/github/dnldes/Numerical-Methods-58001/blob/main/Control_and_Loop_Statements.ipynb\" target=\"_parent\"><img src=\"https://colab.research.google.com/assets/colab-badge.svg\" alt=\"Open In Colab\"/></a>"
      ]
    },
    {
      "cell_type": "markdown",
      "source": [
        "##if statement"
      ],
      "metadata": {
        "id": "7iwf_yoObeay"
      }
    },
    {
      "cell_type": "code",
      "execution_count": null,
      "metadata": {
        "id": "XHc8evyna1Bc"
      },
      "outputs": [],
      "source": [
        "a = 100\n",
        "b = 100\n",
        "\n",
        "if b > a:\n",
        "  print(\"b is greater than a\")"
      ]
    },
    {
      "cell_type": "markdown",
      "source": [
        "##Elif statement"
      ],
      "metadata": {
        "id": "9lLPNTmjcHvE"
      }
    },
    {
      "cell_type": "code",
      "source": [
        "if b > a:\n",
        "  print(\"b is greater than a\")\n",
        "elif a > b:\n",
        "  print(\"a is greater than b\")"
      ],
      "metadata": {
        "id": "Xz881OUocKCo"
      },
      "execution_count": null,
      "outputs": []
    },
    {
      "cell_type": "markdown",
      "source": [
        "##else statement"
      ],
      "metadata": {
        "id": "7dY_7oHXdW6M"
      }
    },
    {
      "cell_type": "code",
      "source": [
        "if b > a:\n",
        "  print(\"b is greater than a\")\n",
        "elif a > b:\n",
        "  print(\"a is greater than b\")\n",
        "else:\n",
        "  print(\"a is equal to b\")"
      ],
      "metadata": {
        "colab": {
          "base_uri": "https://localhost:8080/"
        },
        "id": "EEzb6OYZdZN1",
        "outputId": "80f71799-9694-4476-dca7-8fa90a51732e"
      },
      "execution_count": null,
      "outputs": [
        {
          "output_type": "stream",
          "name": "stdout",
          "text": [
            "a is equal to b\n"
          ]
        }
      ]
    },
    {
      "cell_type": "markdown",
      "source": [
        "##Short Hand If Statement"
      ],
      "metadata": {
        "id": "OKSncLdYeCTy"
      }
    },
    {
      "cell_type": "code",
      "source": [
        "a = 12\n",
        "b = 12\n",
        "\n",
        "if b>a: print(\"b is greater tha a\")"
      ],
      "metadata": {
        "id": "QxwU-5t0eFx8"
      },
      "execution_count": null,
      "outputs": []
    },
    {
      "cell_type": "markdown",
      "source": [
        "##Short Hand If.. Else Statement"
      ],
      "metadata": {
        "id": "GJmp918Nee86"
      }
    },
    {
      "cell_type": "code",
      "source": [
        "c = 35\n",
        "d = 40\n",
        "\n",
        "print(\"c is greater than d\") if c > d else print(\"d is greater than c\")"
      ],
      "metadata": {
        "colab": {
          "base_uri": "https://localhost:8080/"
        },
        "id": "_USmRQkYekZP",
        "outputId": "0a96839e-d2a7-4e32-8aa6-5d24716198a2"
      },
      "execution_count": null,
      "outputs": [
        {
          "output_type": "stream",
          "name": "stdout",
          "text": [
            "d is greater than c\n"
          ]
        }
      ]
    },
    {
      "cell_type": "markdown",
      "source": [
        "##And logic - if both statements or operands are true"
      ],
      "metadata": {
        "id": "F1SgVit9fMpP"
      }
    },
    {
      "cell_type": "code",
      "source": [
        "c = 35\n",
        "d = 40\n",
        "e = 30\n",
        "\n",
        "if d > c  and c > e: \n",
        "  print(\"both conditions must be True\")"
      ],
      "metadata": {
        "colab": {
          "base_uri": "https://localhost:8080/"
        },
        "id": "RPpKog6Ufi36",
        "outputId": "2803aaaa-9f3e-4230-d04c-6ac1e59afc0d"
      },
      "execution_count": null,
      "outputs": [
        {
          "output_type": "stream",
          "name": "stdout",
          "text": [
            "both conditions must be True\n"
          ]
        }
      ]
    },
    {
      "cell_type": "markdown",
      "source": [
        "## Or logic - if one of the operands is true"
      ],
      "metadata": {
        "id": "ZrtkgeuwgAlQ"
      }
    },
    {
      "cell_type": "code",
      "source": [
        "c = 35\n",
        "d = 40\n",
        "e = 30\n",
        "\n",
        "if d > c or e > c:\n",
        "  print(\"if one of the two operands is True\")"
      ],
      "metadata": {
        "colab": {
          "base_uri": "https://localhost:8080/"
        },
        "id": "le-SrzC_gEyj",
        "outputId": "daf5f8d6-260e-41d5-ff03-0b9038ab4fd1"
      },
      "execution_count": null,
      "outputs": [
        {
          "output_type": "stream",
          "name": "stdout",
          "text": [
            "if one of the two operands is True\n"
          ]
        }
      ]
    },
    {
      "cell_type": "markdown",
      "source": [
        "##Nested if"
      ],
      "metadata": {
        "id": "utbpNa5dgWkv"
      }
    },
    {
      "cell_type": "code",
      "source": [
        "x = int(input())\n",
        "\n",
        "if x > 10:\n",
        "  print(\"x is above 10\")\n",
        "  if x > 20:\n",
        "    print(\"x is above 20\")\n",
        "    if x > 30:\n",
        "      print(\"x is above 30\")\n",
        "      if x > 40:\n",
        "        print(\"x is above 40\")\n",
        "      else:\n",
        "        print(\"x is not above 40\")\n",
        "    else:\n",
        "      print(\"x is not above 30\")\n",
        "  else:\n",
        "    print(\"x is not above 20\")    "
      ],
      "metadata": {
        "colab": {
          "base_uri": "https://localhost:8080/"
        },
        "id": "QBExcFcphmEZ",
        "outputId": "5152874c-89f9-444d-f7cc-adfffefa9f18"
      },
      "execution_count": null,
      "outputs": [
        {
          "output_type": "stream",
          "name": "stdout",
          "text": [
            "99\n",
            "x is above 10\n",
            "x is above 20\n",
            "x is above 30\n",
            "x is above 40\n"
          ]
        }
      ]
    },
    {
      "cell_type": "markdown",
      "source": [
        "##Application 1 - write a program that determines if the input age is qualified to vote or not. The qualifying age is 18 years old and above."
      ],
      "metadata": {
        "id": "TjXMyMvJimLC"
      }
    },
    {
      "cell_type": "code",
      "source": [
        "age = int(input())\n",
        "\n",
        "print(\"you are qualified to vote\") if age >= 18 else print(\"you are not qualified to vote\")\n",
        "\n",
        "#if age > 18: \n",
        "  #print(\"you are qualified to vote\")\n",
        "#else:\n",
        "  #print(\"you are not qualified to vote\")"
      ],
      "metadata": {
        "colab": {
          "base_uri": "https://localhost:8080/"
        },
        "id": "oNB40Tw0i2Xk",
        "outputId": "53fd045b-478b-4f67-a0b5-5296c4c898dd"
      },
      "execution_count": null,
      "outputs": [
        {
          "output_type": "stream",
          "name": "stdout",
          "text": [
            "18\n",
            "you are qualified to vote\n"
          ]
        }
      ]
    },
    {
      "cell_type": "markdown",
      "source": [
        "##For Loop Statement"
      ],
      "metadata": {
        "id": "OhetzCGHkN1K"
      }
    },
    {
      "cell_type": "code",
      "source": [
        "week = [\"Sunday\", \"Monday\", \"Tuesday\", \"Wednesday\", \"Thursday\", \"Friday\", \"Saturday\"]\n",
        "\n",
        "for x in week:\n",
        "  print(x)"
      ],
      "metadata": {
        "colab": {
          "base_uri": "https://localhost:8080/"
        },
        "id": "ewjxh6EYkQwO",
        "outputId": "7c8be88b-5ac2-43fe-8caf-fa1e2423b577"
      },
      "execution_count": null,
      "outputs": [
        {
          "output_type": "stream",
          "name": "stdout",
          "text": [
            "Sunday\n",
            "Monday\n",
            "Tuesday\n",
            "Wednesday\n",
            "Thursday\n",
            "Friday\n",
            "Saturday\n"
          ]
        }
      ]
    },
    {
      "cell_type": "markdown",
      "source": [
        "##The Break Statement"
      ],
      "metadata": {
        "id": "i3iBLDB2lIXl"
      }
    },
    {
      "cell_type": "code",
      "source": [
        "\n",
        "for x in week:\n",
        "  print(x)\n",
        "  if x == \"Thursday\":\n",
        "    break"
      ],
      "metadata": {
        "colab": {
          "base_uri": "https://localhost:8080/"
        },
        "id": "l5hZvRCUlLPe",
        "outputId": "c02038db-8e89-4b0b-af8b-f7a5edca2480"
      },
      "execution_count": null,
      "outputs": [
        {
          "output_type": "stream",
          "name": "stdout",
          "text": [
            "Sunday\n",
            "Monday\n",
            "Tuesday\n",
            "Wednesday\n",
            "Thursday\n"
          ]
        }
      ]
    },
    {
      "cell_type": "markdown",
      "source": [
        "##While Loop"
      ],
      "metadata": {
        "id": "A3HIw-irlp8-"
      }
    },
    {
      "cell_type": "code",
      "source": [
        "y = 3\n",
        "\n",
        "while y < 6:\n",
        " print(y)\n",
        " if y == 3:\n",
        "  break\n",
        " y+=1"
      ],
      "metadata": {
        "colab": {
          "base_uri": "https://localhost:8080/"
        },
        "id": "HEHkSj7FlsAo",
        "outputId": "ea87ad90-caaf-4a10-89c2-be8befaaf305"
      },
      "execution_count": null,
      "outputs": [
        {
          "output_type": "stream",
          "name": "stdout",
          "text": [
            "3\n"
          ]
        }
      ]
    },
    {
      "cell_type": "markdown",
      "source": [
        "##Application 2 - Write a program that determines if the number is POSITIVE, NEGATIVE or ZERO"
      ],
      "metadata": {
        "id": "ovzvuHkYxWM-"
      }
    },
    {
      "cell_type": "code",
      "source": [
        "number = int(input())\n",
        "\n",
        "if number > 0:\n",
        "  print('The NUMBER is POSITIVE')\n",
        "elif number == 0:\n",
        "  print('The NUMBER is ZERO')\n",
        "else:\n",
        "  print('The NUMBER is NEGATIVE')\n"
      ],
      "metadata": {
        "colab": {
          "base_uri": "https://localhost:8080/"
        },
        "id": "Pd0ThMN0xUZ5",
        "outputId": "45e1f90f-fd9d-4f7c-8fc8-c6554f996755"
      },
      "execution_count": 4,
      "outputs": [
        {
          "output_type": "stream",
          "name": "stdout",
          "text": [
            "545\n",
            "The NUMBER is POSITIVE\n"
          ]
        }
      ]
    }
  ]
}