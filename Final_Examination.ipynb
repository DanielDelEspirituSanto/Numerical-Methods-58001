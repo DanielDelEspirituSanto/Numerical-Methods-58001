{
  "nbformat": 4,
  "nbformat_minor": 0,
  "metadata": {
    "colab": {
      "name": "Final Examination.ipynb",
      "provenance": [],
      "authorship_tag": "ABX9TyOWLCnSzI/pLa1Y3Ogjj1SS",
      "include_colab_link": true
    },
    "kernelspec": {
      "name": "python3",
      "display_name": "Python 3"
    },
    "language_info": {
      "name": "python"
    }
  },
  "cells": [
    {
      "cell_type": "markdown",
      "metadata": {
        "id": "view-in-github",
        "colab_type": "text"
      },
      "source": [
        "<a href=\"https://colab.research.google.com/github/dnldes/Numerical-Methods-58001/blob/main/Final_Examination.ipynb\" target=\"_parent\"><img src=\"https://colab.research.google.com/assets/colab-badge.svg\" alt=\"Open In Colab\"/></a>"
      ]
    },
    {
      "cell_type": "code",
      "execution_count": 3,
      "metadata": {
        "colab": {
          "base_uri": "https://localhost:8080/"
        },
        "id": "xJLaHfEuyVuw",
        "outputId": "c2c4fab2-8d7b-4372-f439-f7fc3f1e1389"
      },
      "outputs": [
        {
          "output_type": "stream",
          "name": "stdout",
          "text": [
            "Integral = 2.1731\n"
          ]
        }
      ],
      "source": [
        "import math\n",
        "def f(x):\n",
        "\n",
        "  return(math.exp(x)) #defines trigo function\n",
        "\n",
        "a = -1\n",
        "b = 1\n",
        "n = 10\n",
        "\n",
        "h = (b-a)/n   #width of trapezoid\n",
        "\n",
        "S = h* (f(a)+f(b))    #start value of the summation\n",
        "\n",
        "for i in range(1,n):\n",
        "\n",
        "    S+=f(a+i*h)\n",
        "\n",
        "Integral = S*h\n",
        "\n",
        "print('Integral = %0.4f' %Integral)"
      ]
    }
  ]
}