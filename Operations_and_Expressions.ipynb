{
  "nbformat": 4,
  "nbformat_minor": 0,
  "metadata": {
    "colab": {
      "name": "Operations and Expressions.ipynb",
      "provenance": [],
      "authorship_tag": "ABX9TyPVngPIq8hXrp7kf74SW9NF",
      "include_colab_link": true
    },
    "kernelspec": {
      "name": "python3",
      "display_name": "Python 3"
    },
    "language_info": {
      "name": "python"
    }
  },
  "cells": [
    {
      "cell_type": "markdown",
      "metadata": {
        "id": "view-in-github",
        "colab_type": "text"
      },
      "source": [
        "<a href=\"https://colab.research.google.com/github/dnldes/Numerical-Methods-58001/blob/main/Operations_and_Expressions.ipynb\" target=\"_parent\"><img src=\"https://colab.research.google.com/assets/colab-badge.svg\" alt=\"Open In Colab\"/></a>"
      ]
    },
    {
      "cell_type": "markdown",
      "source": [
        "#Boolean Operators\n"
      ],
      "metadata": {
        "id": "mqpi_J5VNZu4"
      }
    },
    {
      "cell_type": "code",
      "source": [
        "print(10>9)\n",
        "print(10<9)\n",
        "print(10==9)"
      ],
      "metadata": {
        "colab": {
          "base_uri": "https://localhost:8080/"
        },
        "id": "vcCqvfbgNaht",
        "outputId": "18717eec-8788-4cbc-a15c-adef1c6b924b"
      },
      "execution_count": null,
      "outputs": [
        {
          "output_type": "stream",
          "name": "stdout",
          "text": [
            "True\n",
            "False\n",
            "False\n"
          ]
        }
      ]
    },
    {
      "cell_type": "code",
      "source": [
        "a=10\n",
        "b=9\n",
        "print(a>b)\n",
        "print(a<b)\n",
        "print(a==b)"
      ],
      "metadata": {
        "id": "s2UcgazQNl4q"
      },
      "execution_count": null,
      "outputs": []
    },
    {
      "cell_type": "markdown",
      "source": [
        "#Bool Function"
      ],
      "metadata": {
        "id": "rr6ofNtHNqr5"
      }
    },
    {
      "cell_type": "code",
      "source": [
        "print(bool(5))\n",
        "print(bool(\"Maria\"))\n",
        "print(bool(0))\n",
        "print(bool(\"None\"))\n",
        "print(bool(None))\n",
        "print(bool([]))\n"
      ],
      "metadata": {
        "colab": {
          "base_uri": "https://localhost:8080/"
        },
        "id": "B4o218QANt0U",
        "outputId": "5302d939-a0af-40a7-8a42-af7a76414a52"
      },
      "execution_count": null,
      "outputs": [
        {
          "output_type": "stream",
          "name": "stdout",
          "text": [
            "True\n",
            "True\n",
            "False\n",
            "True\n",
            "False\n",
            "False\n"
          ]
        }
      ]
    },
    {
      "cell_type": "markdown",
      "source": [
        "#Function can return in boolean"
      ],
      "metadata": {
        "id": "HzT_G-YGN5p6"
      }
    },
    {
      "cell_type": "code",
      "source": [
        "def myFunction():\n",
        "  return False\n",
        "print(myFunction())"
      ],
      "metadata": {
        "id": "PBqQ-I0xN8md"
      },
      "execution_count": null,
      "outputs": []
    },
    {
      "cell_type": "code",
      "source": [
        "if myFunction():\n",
        "  print(\"Yes\")\n",
        "else:\n",
        "  print(\"No\")"
      ],
      "metadata": {
        "id": "0CNPWnHyOI_E"
      },
      "execution_count": null,
      "outputs": []
    },
    {
      "cell_type": "markdown",
      "source": [
        "#Application 1\n"
      ],
      "metadata": {
        "id": "smW7pcewM8ZB"
      }
    },
    {
      "cell_type": "code",
      "execution_count": null,
      "metadata": {
        "colab": {
          "base_uri": "https://localhost:8080/"
        },
        "id": "i7MjFRz3M53u",
        "outputId": "34333b20-d13f-4a0f-a257-318047654447"
      },
      "outputs": [
        {
          "output_type": "stream",
          "name": "stdout",
          "text": [
            "True\n",
            "False\n",
            "False\n"
          ]
        }
      ],
      "source": [
        "a=6\n",
        "b=7\n",
        "print(10>9)\n",
        "print(a==b)\n",
        "print(a!=a)"
      ]
    },
    {
      "cell_type": "markdown",
      "source": [
        "##Python Operators"
      ],
      "metadata": {
        "id": "MGn1JgDRORsE"
      }
    },
    {
      "cell_type": "code",
      "source": [
        "print(10+9)\n",
        "print(10-9)\n",
        "print(10*2)\n",
        "print(10/2)\n",
        "print(10**2)"
      ],
      "metadata": {
        "id": "n7ViuU4BOWTH"
      },
      "execution_count": null,
      "outputs": []
    },
    {
      "cell_type": "markdown",
      "source": [
        "##Python Bitwise Operators\n"
      ],
      "metadata": {
        "id": "fDGbayRSPdyH"
      }
    },
    {
      "cell_type": "code",
      "source": [
        "a= 60\n",
        "b= 13\n",
        "\n",
        "print(a&b)\n",
        "print(a|b)"
      ],
      "metadata": {
        "colab": {
          "base_uri": "https://localhost:8080/"
        },
        "id": "zEsCb4fFPgjo",
        "outputId": "7f7d66fc-3ff8-46fb-e24c-dcdfbccf3d89"
      },
      "execution_count": null,
      "outputs": [
        {
          "output_type": "stream",
          "name": "stdout",
          "text": [
            "12\n",
            "61\n"
          ]
        }
      ]
    },
    {
      "cell_type": "markdown",
      "source": [
        "##Python Assignment Operators"
      ],
      "metadata": {
        "id": "-4NZTQM0QPb7"
      }
    },
    {
      "cell_type": "code",
      "source": [
        "a+=3\n",
        "\n",
        "print(a)"
      ],
      "metadata": {
        "colab": {
          "base_uri": "https://localhost:8080/"
        },
        "id": "hqxWkXqQQM0i",
        "outputId": "1ba97d62-cfc2-449b-ae46-104d78f97a93"
      },
      "execution_count": null,
      "outputs": [
        {
          "output_type": "stream",
          "name": "stdout",
          "text": [
            "3\n"
          ]
        }
      ]
    },
    {
      "cell_type": "markdown",
      "source": [
        "##Identity Operators"
      ],
      "metadata": {
        "id": "JulpxajSRLdW"
      }
    },
    {
      "cell_type": "code",
      "source": [
        "a is b \n",
        "a is not b\n",
        "\n",
        "print(a is b)\n",
        "print(a is not b)"
      ],
      "metadata": {
        "colab": {
          "base_uri": "https://localhost:8080/"
        },
        "id": "_e0WLdtFRlW9",
        "outputId": "a539dca4-352b-4196-81c3-b88f3a2e1d5f"
      },
      "execution_count": null,
      "outputs": [
        {
          "output_type": "stream",
          "name": "stdout",
          "text": [
            "False\n",
            "True\n"
          ]
        }
      ]
    }
  ]
}